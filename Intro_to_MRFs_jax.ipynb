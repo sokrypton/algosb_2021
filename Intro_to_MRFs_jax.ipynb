{
  "nbformat": 4,
  "nbformat_minor": 0,
  "metadata": {
    "colab": {
      "name": "Intro_to_MRFs_jax.ipynb",
      "provenance": [],
      "include_colab_link": true
    },
    "kernelspec": {
      "name": "python3",
      "display_name": "Python 3"
    }
  },
  "cells": [
    {
      "cell_type": "markdown",
      "metadata": {
        "id": "view-in-github",
        "colab_type": "text"
      },
      "source": [
        "<a href=\"https://colab.research.google.com/github/sokrypton/algosb_2021/blob/main/Intro_to_MRFs_jax.ipynb\" target=\"_parent\"><img src=\"https://colab.research.google.com/assets/colab-badge.svg\" alt=\"Open In Colab\"/></a>"
      ]
    },
    {
      "cell_type": "code",
      "metadata": {
        "id": "iEJ5Zz_hkFNX"
      },
      "source": [
        "# import libraries\n",
        "import jax\n",
        "import jax.numpy as jnp\n",
        "import matplotlib.pylab as plt\n",
        "\n",
        "# new library for interations!\n",
        "import itertools as it"
      ],
      "execution_count": 1,
      "outputs": []
    },
    {
      "cell_type": "markdown",
      "metadata": {
        "id": "YqcmGm9rKclx"
      },
      "source": [
        "## Statistical models"
      ]
    },
    {
      "cell_type": "code",
      "metadata": {
        "id": "VIR9AtisMkpi",
        "colab": {
          "base_uri": "https://localhost:8080/"
        },
        "outputId": "59bb92c5-5594-45ae-fbc3-af4bfe5aaa02"
      },
      "source": [
        "import tensorflow as tf\n",
        "# msa\n",
        "msa = jnp.array([\n",
        "    [0,1], # sequence 1\n",
        "    [1,0], # sequence 2\n",
        "    [0,1], # sequence 3\n",
        "    [1,0], # sequence 4\n",
        "])\n",
        "\n",
        "# define size\n",
        "N, L = msa.shape\n",
        "\n",
        "# define number of states\n",
        "A = 2\n",
        "\n",
        "print(\"msa\")\n",
        "print(msa)"
      ],
      "execution_count": 2,
      "outputs": [
        {
          "output_type": "stream",
          "name": "stderr",
          "text": [
            "WARNING:absl:No GPU/TPU found, falling back to CPU. (Set TF_CPP_MIN_LOG_LEVEL=0 and rerun for more info.)\n"
          ]
        },
        {
          "output_type": "stream",
          "name": "stdout",
          "text": [
            "msa\n",
            "[[0 1]\n",
            " [1 0]\n",
            " [0 1]\n",
            " [1 0]]\n"
          ]
        }
      ]
    },
    {
      "cell_type": "markdown",
      "metadata": {
        "id": "WkI2zWz-OAAY"
      },
      "source": [
        "## PSSM"
      ]
    },
    {
      "cell_type": "code",
      "metadata": {
        "id": "t5T-_t1SbdXZ"
      },
      "source": [
        "def model(params, inputs):\n",
        "\n",
        "  msa = inputs[\"msa\"]\n",
        "  pssm_logits = params[\"pssm_logits\"]\n",
        "\n",
        "  # normalize so values sum to one\n",
        "  # pssm = jnp.exp(pssm_logits)/jnp.exp(pssm_logits).sum(-1,keepdims=True)\n",
        "  pssm = jax.nn.softmax(pssm_logits)\n",
        "\n",
        "  # log-probability\n",
        "  P = pssm[jnp.arange(L),msa]\n",
        "  logP = jnp.log(P).sum(-1)\n",
        "\n",
        "  # define loss function\n",
        "  # note for optimization, loss is \"minimized\"\n",
        "  # so to \"maximize\" the probability, we will \"minimize\" the -logP\n",
        "  loss = -logP.mean()\n",
        "\n",
        "  return loss, {\"P\":P, \"pssm\":pssm}"
      ],
      "execution_count": 11,
      "outputs": []
    },
    {
      "cell_type": "code",
      "metadata": {
        "colab": {
          "base_uri": "https://localhost:8080/"
        },
        "id": "02fyIv1GHIo4",
        "outputId": "38ee5365-003a-4473-8fc4-d11c36f27989"
      },
      "source": [
        "inputs = {\"msa\":msa}\n",
        "\n",
        "# random initialization\n",
        "key = jax.random.PRNGKey(1)\n",
        "params = {\"pssm_logits\":jax.random.gumbel(key, shape=(L,A))}\n",
        "\n",
        "loss, outputs = model(params, inputs)\n",
        "\n",
        "# lets look at the PSSM BEFORE optimization\n",
        "print(\"PSSM BEFORE\")\n",
        "print(outputs[\"pssm\"])\n",
        "\n",
        "print(\"P(0,1) BEFORE\")\n",
        "P = outputs[\"P\"][0].prod()\n",
        "print(P)"
      ],
      "execution_count": 15,
      "outputs": [
        {
          "output_type": "stream",
          "name": "stdout",
          "text": [
            "PSSM BEFORE\n",
            "[[0.66715103 0.3328489 ]\n",
            " [0.864988   0.13501194]]\n",
            "P(0,1) BEFORE\n",
            "0.090073355\n"
          ]
        }
      ]
    },
    {
      "cell_type": "code",
      "metadata": {
        "id": "wXlCs0Y0iLtw"
      },
      "source": [
        "# get gradients = ∂loss/∂params\n",
        "grad_model = jax.value_and_grad(model, has_aux=True)"
      ],
      "execution_count": 16,
      "outputs": []
    },
    {
      "cell_type": "code",
      "metadata": {
        "id": "T1EaK6qbkRyD"
      },
      "source": [
        "(loss,outputs), grad = grad_model(params, inputs)"
      ],
      "execution_count": 17,
      "outputs": []
    },
    {
      "cell_type": "code",
      "metadata": {
        "colab": {
          "base_uri": "https://localhost:8080/"
        },
        "id": "m0VaDDk-j8vg",
        "outputId": "ebb0fd07-54c6-4d4a-8d75-9f7d4cbc00f1"
      },
      "source": [
        "loss"
      ],
      "execution_count": 18,
      "outputs": [
        {
          "output_type": "execute_result",
          "data": {
            "text/plain": [
              "DeviceArray(1.8261186, dtype=float32)"
            ]
          },
          "metadata": {},
          "execution_count": 18
        }
      ]
    },
    {
      "cell_type": "code",
      "metadata": {
        "colab": {
          "base_uri": "https://localhost:8080/"
        },
        "id": "gmNOTCk5lBiF",
        "outputId": "b9401cd7-66da-45b4-dd5a-a917f73aba87"
      },
      "source": [
        "grad"
      ],
      "execution_count": 19,
      "outputs": [
        {
          "output_type": "execute_result",
          "data": {
            "text/plain": [
              "{'pssm_logits': DeviceArray([[ 0.16715103, -0.16715111],\n",
              "              [ 0.36498797, -0.36498806]], dtype=float32)}"
            ]
          },
          "metadata": {},
          "execution_count": 19
        }
      ]
    },
    {
      "cell_type": "code",
      "metadata": {
        "colab": {
          "base_uri": "https://localhost:8080/"
        },
        "id": "EKdeO5DblEbK",
        "outputId": "f93e3c4b-1eb0-4528-bf04-cf7fbd4db546"
      },
      "source": [
        "for n in range(100):\n",
        "  params[\"pssm_logits\"] -= 0.1 * grad[\"pssm_logits\"]\n",
        "  (loss,outputs), grad = grad_model(params, inputs)\n",
        "  if (n+1) % 10 == 0:\n",
        "    print(n+1,loss)"
      ],
      "execution_count": 20,
      "outputs": [
        {
          "output_type": "stream",
          "name": "stdout",
          "text": [
            "10 1.5813975\n",
            "20 1.4637878\n",
            "30 1.4152719\n",
            "40 1.3968499\n",
            "50 1.3901005\n",
            "60 1.3876617\n",
            "70 1.3867848\n",
            "80 1.3864703\n",
            "90 1.3863573\n",
            "100 1.386317\n"
          ]
        }
      ]
    },
    {
      "cell_type": "code",
      "metadata": {
        "colab": {
          "base_uri": "https://localhost:8080/"
        },
        "id": "PTfgskNFlQ1g",
        "outputId": "7ea8c0c6-6100-431e-d511-d72368e0c005"
      },
      "source": [
        "print(\"PSSM AFTER\")\n",
        "print(outputs[\"pssm\"])\n",
        "\n",
        "print(\"P(0,1) AFTER\")\n",
        "P = outputs[\"P\"][0].prod()\n",
        "print(P)"
      ],
      "execution_count": 21,
      "outputs": [
        {
          "output_type": "stream",
          "name": "stdout",
          "text": [
            "PSSM AFTER\n",
            "[[0.50105166 0.4989483 ]\n",
            " [0.5031935  0.49680653]]\n",
            "P(0,1) AFTER\n",
            "0.24892575\n"
          ]
        }
      ]
    },
    {
      "cell_type": "markdown",
      "metadata": {
        "id": "XVVdUl5fOE3Z"
      },
      "source": [
        "## Markov Random Field\n",
        "Adding two-body term (W)"
      ]
    },
    {
      "cell_type": "code",
      "metadata": {
        "id": "BFjyuP2cMmsS",
        "colab": {
          "base_uri": "https://localhost:8080/"
        },
        "outputId": "1cd78688-bcca-4137-cd52-09e209f92687"
      },
      "source": [
        "import itertools as it\n",
        "# \"Z\" alignment of all possible sequences!\n",
        "msa_Z =  jnp.array(list(it.product(jnp.arange(A),repeat=L)))\n",
        "print(\"msa_Z\")\n",
        "print(msa_Z)"
      ],
      "execution_count": 22,
      "outputs": [
        {
          "output_type": "stream",
          "name": "stdout",
          "text": [
            "msa_Z\n",
            "[[0 0]\n",
            " [0 1]\n",
            " [1 0]\n",
            " [1 1]]\n"
          ]
        }
      ]
    },
    {
      "cell_type": "code",
      "metadata": {
        "id": "IEJCtQPrl1N0"
      },
      "source": [
        "def model(params, inputs):\n",
        "\n",
        "  msa_H = inputs[\"msa\"]\n",
        "  msa_Z = inputs[\"msa_Z\"]\n",
        "\n",
        "  # one-hot encode msa\n",
        "  oh_msa_H = jnp.eye(A)[msa_H]\n",
        "  oh_msa_Z = jnp.eye(A)[msa_Z]\n",
        "\n",
        "  # 1-body-term\n",
        "  V = params[\"V\"]\n",
        "\n",
        "  # 2-body-term\n",
        "  W = params[\"W\"]\n",
        "  W = W * (1-jnp.eye(L)[:,None,:,None]) # set diagonal to zero\n",
        "  W = 0.5 * (W + W.transpose((2,3,0,1))) # symmetrize\n",
        "\n",
        "  H = (oh_msa_H * (V + jnp.tensordot(oh_msa_H, W, 2))).sum((1,2))\n",
        "  Z = (oh_msa_Z * (V + jnp.tensordot(oh_msa_Z, W, 2))).sum((1,2))\n",
        "\n",
        "  # P(X|θ) = Probability of MSA (X) given parameters (θ)\n",
        "  P = jnp.exp(H)/jnp.exp(Z).sum()\n",
        "\n",
        "  # can also be thought as\n",
        "  # L(θ|X) = Likelihood of parameters (θ) given MSA (X)\n",
        "  # Log-Likelihood\n",
        "  LL = H - jnp.log(jnp.exp(Z).sum())\n",
        "\n",
        "  loss = -LL.mean()\n",
        "  return loss, {\"P\":P}"
      ],
      "execution_count": 23,
      "outputs": []
    },
    {
      "cell_type": "code",
      "metadata": {
        "colab": {
          "base_uri": "https://localhost:8080/"
        },
        "id": "vSNqORVzn2Ep",
        "outputId": "b9178698-aaba-4d29-909c-0878d9f681f5"
      },
      "source": [
        "inputs = {\"msa\":msa,\"msa_Z\":msa_Z}\n",
        "\n",
        "params = {\"V\":jnp.zeros((L,A)),\n",
        "          \"W\":jnp.zeros((L,A,L,A))}\n",
        "\n",
        "grad_model = jax.jit(jax.value_and_grad(model, has_aux=True))\n",
        "(loss, outputs), grad = grad_model(params, inputs)\n",
        "\n",
        "\n",
        "print(\"P(0,1) BEFORE\")\n",
        "P = outputs[\"P\"][0]\n",
        "print(P)"
      ],
      "execution_count": 24,
      "outputs": [
        {
          "output_type": "stream",
          "name": "stdout",
          "text": [
            "P(0,1) BEFORE\n",
            "0.25\n"
          ]
        }
      ]
    },
    {
      "cell_type": "code",
      "metadata": {
        "id": "79xRl8q4qmS_"
      },
      "source": [
        "# instead of using GD, lets try ADAM\n",
        "from jax.experimental.optimizers import adam"
      ],
      "execution_count": 25,
      "outputs": []
    },
    {
      "cell_type": "code",
      "metadata": {
        "colab": {
          "base_uri": "https://localhost:8080/"
        },
        "id": "FmoNR0Y2rQWM",
        "outputId": "f765000d-f4ca-4737-93b0-c294aaf95260"
      },
      "source": [
        "# initialize optimizer\n",
        "init_fun, update_fun, get_params = adam(1e-1)\n",
        "\n",
        "# initialize state\n",
        "state = init_fun(params)\n",
        "for n in range(1000):\n",
        "  (loss,outputs), grad = grad_model(get_params(state), inputs)\n",
        "  state = update_fun(n, grad, state)\n",
        "  if (n+1) % 100 == 0:\n",
        "    print(n+1,loss)"
      ],
      "execution_count": 26,
      "outputs": [
        {
          "output_type": "stream",
          "name": "stdout",
          "text": [
            "100 0.6942606\n",
            "200 0.69378376\n",
            "300 0.6935549\n",
            "400 0.69343185\n",
            "500 0.69335747\n",
            "600 0.6933098\n",
            "700 0.69327736\n",
            "800 0.69325256\n",
            "900 0.6932354\n",
            "1000 0.69322205\n"
          ]
        }
      ]
    },
    {
      "cell_type": "code",
      "metadata": {
        "colab": {
          "base_uri": "https://localhost:8080/"
        },
        "id": "60lYtfYXoOTX",
        "outputId": "70b39b1b-4008-43d7-9ff9-3507c881c370"
      },
      "source": [
        "print(\"P(0,1) AFTER\")\n",
        "P = outputs[\"P\"][0]\n",
        "print(P)"
      ],
      "execution_count": 27,
      "outputs": [
        {
          "output_type": "stream",
          "name": "stdout",
          "text": [
            "P(0,1) AFTER\n",
            "0.49996245\n"
          ]
        }
      ]
    }
  ]
}