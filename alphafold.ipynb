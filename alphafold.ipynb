{
  "nbformat": 4,
  "nbformat_minor": 0,
  "metadata": {
    "colab": {
      "name": "alphafold.ipynb",
      "provenance": [],
      "collapsed_sections": [],
      "include_colab_link": true
    },
    "kernelspec": {
      "name": "python3",
      "display_name": "Python 3"
    },
    "language_info": {
      "name": "python"
    },
    "accelerator": "GPU"
  },
  "cells": [
    {
      "cell_type": "markdown",
      "metadata": {
        "id": "view-in-github",
        "colab_type": "text"
      },
      "source": [
        "<a href=\"https://colab.research.google.com/github/sokrypton/algosb_2021/blob/main/alphafold.ipynb\" target=\"_parent\"><img src=\"https://colab.research.google.com/assets/colab-badge.svg\" alt=\"Open In Colab\"/></a>"
      ]
    },
    {
      "cell_type": "markdown",
      "metadata": {
        "id": "9Tn_yE9XveTl"
      },
      "source": [
        "install a few things"
      ]
    },
    {
      "cell_type": "code",
      "metadata": {
        "colab": {
          "base_uri": "https://localhost:8080/"
        },
        "id": "JNNLDdQoAAq-",
        "outputId": "6eb0a2df-14ff-4f5b-e4fc-96d61efb293b"
      },
      "source": [
        "%%bash\n",
        "if [ ! -d af_backprop ]; then\n",
        "  git clone https://github.com/sokrypton/af_backprop.git\n",
        "  pip -q install biopython dm-haiku ml-collections py3Dmol\n",
        "fi\n",
        "if [ ! -d params ]; then\n",
        "  mkdir params\n",
        "  curl -fsSL https://storage.googleapis.com/alphafold/alphafold_params_2021-07-14.tar | tar x -C params\n",
        "fi\n",
        "wget -qnc https://raw.githubusercontent.com/sokrypton/ColabFold/main/beta/colabfold.py"
      ],
      "execution_count": 1,
      "outputs": [
        {
          "output_type": "stream",
          "name": "stderr",
          "text": [
            "Cloning into 'af_backprop'...\n"
          ]
        }
      ]
    },
    {
      "cell_type": "code",
      "metadata": {
        "id": "GoTddQK3AH7a"
      },
      "source": [
        "import sys\n",
        "sys.path.append('/content/af_backprop')\n",
        "\n",
        "import numpy as np\n",
        "import matplotlib.pyplot as plt\n",
        "import py3Dmol\n",
        "\n",
        "import jax\n",
        "import jax.numpy as jnp\n",
        "\n",
        "from alphafold.common import protein\n",
        "from alphafold.data import pipeline, templates\n",
        "from alphafold.model import data, config, model, modules\n",
        "from alphafold.common import residue_constants\n",
        "\n",
        "from alphafold.model import all_atom\n",
        "from alphafold.model import folding\n",
        "\n",
        "# custom functions\n",
        "from utils import *\n",
        "import colabfold as cf"
      ],
      "execution_count": 1,
      "outputs": []
    },
    {
      "cell_type": "code",
      "metadata": {
        "id": "VNUfj_LwAL-1"
      },
      "source": [
        "# setup which model params to use\n",
        "model_name = \"model_3_ptm\"\n",
        "model_config = config.model_config(model_name)\n",
        "\n",
        "# number of recycles\n",
        "model_config.model.num_recycle = 1\n",
        "model_config.data.common.num_recycle = 1\n",
        "\n",
        "# number of sequences\n",
        "NUM = 100\n",
        "model_config.data.common.max_extra_msa = 1\n",
        "model_config.data.eval.max_msa_clusters = NUM\n",
        "model_config.data.eval.masked_msa_replace_fraction = 0\n",
        "\n",
        "# dropout\n",
        "model_config = set_dropout(model_config, 0.0)\n",
        "\n",
        "# setup model\n",
        "model_params = [data.get_model_haiku_params(model_name=model_name, data_dir=\".\")]\n",
        "model_runner = model.RunModel(model_config, model_params[0], is_training=True)"
      ],
      "execution_count": 2,
      "outputs": []
    },
    {
      "cell_type": "code",
      "metadata": {
        "id": "Ns_tQwiwAeiG"
      },
      "source": [
        "!wget -qnc https://files.ipd.uw.edu/krypton/RL29.uni.1e-10.i8.i90c75.a3m -O \"RL29.a3m\""
      ],
      "execution_count": 14,
      "outputs": []
    },
    {
      "cell_type": "code",
      "metadata": {
        "id": "DhnXXw_GA3pp"
      },
      "source": [
        "msa, deletion_matrix = pipeline.parsers.parse_a3m(\"\".join(open(\"RL29.a3m\",\"r\").readlines()))\n",
        "query_sequence = msa[0]"
      ],
      "execution_count": 3,
      "outputs": []
    },
    {
      "cell_type": "code",
      "metadata": {
        "id": "wXRoHpJsLPzg"
      },
      "source": [
        "np.random.seed(0)\n",
        "idx = np.append(0,np.random.permutation(np.arange(1,len(msa))))[:NUM]\n",
        "msa_ = [msa[i] for i in idx]\n",
        "deletion_matrix_ = [deletion_matrix[i] for i in idx]"
      ],
      "execution_count": 4,
      "outputs": []
    },
    {
      "cell_type": "code",
      "metadata": {
        "id": "7sHye-gwBKsr"
      },
      "source": [
        "feature_dict = {\n",
        "    **pipeline.make_sequence_features(sequence=query_sequence, description=\"none\", num_res=len(query_sequence)),\n",
        "    **pipeline.make_msa_features(msas=[msa_],deletion_matrices=[deletion_matrix_]),\n",
        "}\n",
        "processed_feature_dict = model_runner.process_features(feature_dict, random_seed=0)\n",
        "key = jax.random.PRNGKey(0)"
      ],
      "execution_count": 5,
      "outputs": []
    },
    {
      "cell_type": "code",
      "metadata": {
        "id": "R2TmJm0PlEyg"
      },
      "source": [
        "@jax.jit\n",
        "def get_logits(inputs, i, a, mut_target=True):\n",
        "  mut = jnp.eye(20)[a]\n",
        "  if mut_target: inputs[\"target_feat\"] = inputs[\"target_feat\"].at[...,i,1:21].set(mut)\n",
        "  inputs[\"msa_feat\"] = inputs[\"msa_feat\"].at[:,0,i,:20].set(mut).at[:,0,i,25:45].set(mut)\n",
        "\n",
        "  key = jax.random.PRNGKey(0)\n",
        "  outputs = model_runner.apply(model_params[0], key, inputs)\n",
        "  return outputs[\"masked_msa\"][\"logits\"][0,:,:20]"
      ],
      "execution_count": 6,
      "outputs": []
    },
    {
      "cell_type": "code",
      "metadata": {
        "id": "YeLXxFPGlrWs",
        "colab": {
          "base_uri": "https://localhost:8080/"
        },
        "outputId": "335520c3-351a-4dc8-8ca6-b496df2de750"
      },
      "source": [
        "%%time\n",
        "o_ = []\n",
        "for i in range(len(query_sequence)):\n",
        "  print(i)\n",
        "  o_.append([])\n",
        "  for a in range(20):\n",
        "    o_[i].append(np.asarray(get_logits(processed_feature_dict,i,a)))"
      ],
      "execution_count": 7,
      "outputs": [
        {
          "output_type": "stream",
          "name": "stdout",
          "text": [
            "0\n",
            "1\n",
            "2\n",
            "3\n",
            "4\n",
            "5\n",
            "6\n",
            "7\n",
            "8\n",
            "9\n",
            "10\n",
            "11\n",
            "12\n",
            "13\n",
            "14\n",
            "15\n",
            "16\n",
            "17\n",
            "18\n",
            "19\n",
            "20\n",
            "21\n",
            "22\n",
            "23\n",
            "24\n",
            "25\n",
            "26\n",
            "27\n",
            "28\n",
            "29\n",
            "30\n",
            "31\n",
            "32\n",
            "33\n",
            "34\n",
            "35\n",
            "36\n",
            "37\n",
            "38\n",
            "39\n",
            "40\n",
            "41\n",
            "42\n",
            "43\n",
            "44\n",
            "45\n",
            "46\n",
            "47\n",
            "48\n",
            "49\n",
            "50\n",
            "51\n",
            "52\n",
            "53\n",
            "54\n",
            "55\n",
            "56\n",
            "57\n",
            "58\n",
            "59\n",
            "60\n",
            "61\n",
            "62\n",
            "CPU times: user 10min 51s, sys: 6min 12s, total: 17min 3s\n",
            "Wall time: 16min 30s\n"
          ]
        }
      ]
    },
    {
      "cell_type": "code",
      "metadata": {
        "id": "9aSCkMJ93c-r"
      },
      "source": [
        "def o_to_contacts(o, center=True, symm=True):\n",
        "  o_ = np.array(o)\n",
        "  o_ -= np.array(o).mean((0,1))\n",
        "  if symm:\n",
        "    o_ = (o_ + o_.transpose((2,3,0,1)))/2\n",
        "  if center:\n",
        "    for i in range(4): o_ -= o_.mean(i,keepdims=True)\n",
        "\n",
        "  #get contacts\n",
        "  raw = np.sqrt(np.square(o_).sum((1,3)))\n",
        "  np.fill_diagonal(raw,0)\n",
        "  apc = raw - raw.sum(0,keepdims=True) * raw.sum(1,keepdims=True) / raw.sum()\n",
        "  np.fill_diagonal(apc,0)\n",
        "  return raw, apc"
      ],
      "execution_count": 10,
      "outputs": []
    },
    {
      "cell_type": "code",
      "metadata": {
        "colab": {
          "base_uri": "https://localhost:8080/",
          "height": 435
        },
        "id": "KX1BXSo6V5GI",
        "outputId": "67de6dce-8515-4254-a0ff-0a9bf7caa80b"
      },
      "source": [
        "plt.figure(figsize=(10,5),dpi=100)\n",
        "plt.subplot(1,2,1)\n",
        "plt.title(\"raw\")\n",
        "plt.imshow(o_to_contacts(o_)[0])\n",
        "plt.subplot(1,2,2)\n",
        "plt.title(\"apc\")\n",
        "plt.imshow(o_to_contacts(o_)[1])\n",
        "plt.show()"
      ],
      "execution_count": 11,
      "outputs": [
        {
          "output_type": "display_data",
          "data": {
            "image/png": "[encoded data removed]",
            "text/plain": [
              "<Figure size 1000x500 with 2 Axes>"
            ]
          },
          "metadata": {
            "needs_background": "light"
          }
        }
      ]
    },
    {
      "cell_type": "code",
      "metadata": {
        "id": "lfoV6cxyxWOt"
      },
      "source": [
        ""
      ],
      "execution_count": null,
      "outputs": []
    }
  ]
}